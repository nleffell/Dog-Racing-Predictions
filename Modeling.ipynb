{
 "cells": [
  {
   "cell_type": "markdown",
   "id": "83738ecb",
   "metadata": {},
   "source": [
    "## Modeling"
   ]
  },
  {
   "cell_type": "code",
   "execution_count": 13,
   "id": "f36f0410",
   "metadata": {},
   "outputs": [
    {
     "data": {
      "text/html": [
       "<style>.container { width:90% !important; }</style>"
      ],
      "text/plain": [
       "<IPython.core.display.HTML object>"
      ]
     },
     "metadata": {},
     "output_type": "display_data"
    }
   ],
   "source": [
    "from IPython.core.display import display, HTML\n",
    "display(HTML(\"<style>.container { width:90% !important; }</style>\"))"
   ]
  },
  {
   "cell_type": "code",
   "execution_count": 14,
   "id": "143482fa",
   "metadata": {},
   "outputs": [],
   "source": [
    "import pandas as pd\n",
    "import numpy as np\n",
    "from sklearn.model_selection import train_test_split, RandomizedSearchCV\n",
    "from sklearn.preprocessing import StandardScaler\n",
    "\n",
    "from sklearn import metrics\n",
    "from scipy.stats import uniform, loguniform\n",
    "\n",
    "import warnings\n",
    "warnings.filterwarnings(\"ignore\")"
   ]
  },
  {
   "cell_type": "code",
   "execution_count": 15,
   "id": "05a8b59b",
   "metadata": {},
   "outputs": [],
   "source": [
    "from tensorflow.keras.utils import to_categorical\n",
    "from tensorflow.keras.models import Sequential\n",
    "from tensorflow.keras.layers import Dense\n",
    "from tensorflow.keras.wrappers.scikit_learn import KerasRegressor\n",
    "from tensorflow.keras.layers import Dropout\n",
    "from tensorflow.keras.callbacks import EarlyStopping"
   ]
  },
  {
   "cell_type": "code",
   "execution_count": 98,
   "id": "d77c6e63",
   "metadata": {},
   "outputs": [],
   "source": [
    "df = pd.read_csv('../model_ready_2015.csv')"
   ]
  },
  {
   "cell_type": "code",
   "execution_count": 17,
   "id": "920412aa",
   "metadata": {},
   "outputs": [],
   "source": [
    "X = pd.get_dummies(df.drop(columns='Fin'), drop_first=True)\n",
    "y = to_categorical(df['Fin'])\n",
    "X_train, X_test, y_train, y_test = train_test_split(X, y, test_size=0.3, stratify=y, random_state=7)"
   ]
  },
  {
   "cell_type": "code",
   "execution_count": 18,
   "id": "0082afc7",
   "metadata": {},
   "outputs": [
    {
     "data": {
      "text/plain": [
       "(478034, 716)"
      ]
     },
     "execution_count": 18,
     "metadata": {},
     "output_type": "execute_result"
    }
   ],
   "source": [
    "X.shape"
   ]
  },
  {
   "cell_type": "code",
   "execution_count": 20,
   "id": "24d36b6e",
   "metadata": {},
   "outputs": [],
   "source": [
    "ss = StandardScaler()\n",
    "Xs_train = ss.fit_transform(X_train)\n",
    "Xs_test = ss.transform(X_test)"
   ]
  },
  {
   "cell_type": "code",
   "execution_count": null,
   "id": "02bf6281",
   "metadata": {},
   "outputs": [],
   "source": [
    "np.random.seed(7)\n",
    "best_params_model = Sequential()\n",
    "best_params_model.add(Dense(716, input_shape=(716,), activation='relu'))\n",
    "best_params_model.add(Dense(64, activation='relu'))\n",
    "best_params_model.add(Dense(200, activation='relu'))\n",
    "best_params_model.add(Dense(4, activation='softmax'))\n",
    "\n",
    "best_params_model.compile(loss='categorical_crossentropy', optimizer='adam', metrics=['accuracy'])\n",
    "history = best_params_model.fit(Xs_train, y_train, validation_data=(Xs_test, y_test), epochs=10, batch_size=512, verbose=1)\n",
    "\n",
    "preds = best_params_model.predict(Xs_test)"
   ]
  },
  {
   "cell_type": "markdown",
   "id": "c3f245ea",
   "metadata": {},
   "source": [
    "### Binary Classification"
   ]
  },
  {
   "cell_type": "code",
   "execution_count": 99,
   "id": "bdb05afc",
   "metadata": {},
   "outputs": [],
   "source": [
    "X = pd.get_dummies(df.drop(columns='Fin'), drop_first=True)\n",
    "y = df['Fin'].apply(lambda x: 0 if x > 1 else x)"
   ]
  },
  {
   "cell_type": "code",
   "execution_count": 100,
   "id": "726478df",
   "metadata": {},
   "outputs": [
    {
     "name": "stdout",
     "output_type": "stream",
     "text": [
      "original dataset shape: 120826\n",
      "Resample dataset shape 120826\n"
     ]
    }
   ],
   "source": [
    "#deal with imbalanced classes\n",
    "from imblearn.under_sampling import RandomUnderSampler\n",
    "rus = RandomUnderSampler(random_state=7, replacement=True)# fit predictor and target variable\n",
    "X, y = rus.fit_resample(X, y)\n",
    "print('original dataset shape:', len(y))\n",
    "print('Resample dataset shape', len(y_rus))"
   ]
  },
  {
   "cell_type": "code",
   "execution_count": 101,
   "id": "bc8c7ceb",
   "metadata": {},
   "outputs": [],
   "source": [
    "X_train, X_test, y_train, y_test = train_test_split(X, y, test_size=0.3, stratify=y, random_state=7)"
   ]
  },
  {
   "cell_type": "code",
   "execution_count": 102,
   "id": "831411d8",
   "metadata": {},
   "outputs": [
    {
     "data": {
      "text/plain": [
       "Fin\n",
       "0      0.5\n",
       "1      0.5\n",
       "dtype: float64"
      ]
     },
     "execution_count": 102,
     "metadata": {},
     "output_type": "execute_result"
    }
   ],
   "source": [
    "pd.DataFrame(y).value_counts(normalize=True)"
   ]
  },
  {
   "cell_type": "code",
   "execution_count": 103,
   "id": "0599c581",
   "metadata": {},
   "outputs": [
    {
     "data": {
      "text/plain": [
       "(120826, 716)"
      ]
     },
     "execution_count": 103,
     "metadata": {},
     "output_type": "execute_result"
    }
   ],
   "source": [
    "X.shape"
   ]
  },
  {
   "cell_type": "code",
   "execution_count": 104,
   "id": "5f4116a7",
   "metadata": {},
   "outputs": [],
   "source": [
    "ss = StandardScaler()\n",
    "Xs_train = ss.fit_transform(X_train)\n",
    "Xs_test = ss.transform(X_test)"
   ]
  },
  {
   "cell_type": "code",
   "execution_count": 105,
   "id": "266cd135",
   "metadata": {
    "scrolled": true
   },
   "outputs": [
    {
     "name": "stdout",
     "output_type": "stream",
     "text": [
      "Epoch 1/10\n",
      "166/166 [==============================] - 1s 6ms/step - loss: 0.3373 - accuracy: 0.8536 - val_loss: 0.2727 - val_accuracy: 0.8819\n",
      "Epoch 2/10\n",
      "166/166 [==============================] - 1s 5ms/step - loss: 0.2450 - accuracy: 0.8965 - val_loss: 0.2534 - val_accuracy: 0.8947\n",
      "Epoch 3/10\n",
      "166/166 [==============================] - 1s 5ms/step - loss: 0.2224 - accuracy: 0.9059 - val_loss: 0.2445 - val_accuracy: 0.8967\n",
      "Epoch 4/10\n",
      "166/166 [==============================] - 1s 5ms/step - loss: 0.2075 - accuracy: 0.9121 - val_loss: 0.2356 - val_accuracy: 0.9013\n",
      "Epoch 5/10\n",
      "166/166 [==============================] - 1s 6ms/step - loss: 0.1956 - accuracy: 0.9168 - val_loss: 0.2346 - val_accuracy: 0.9038\n",
      "Epoch 6/10\n",
      "166/166 [==============================] - 1s 5ms/step - loss: 0.1865 - accuracy: 0.9211 - val_loss: 0.2345 - val_accuracy: 0.9036\n",
      "Epoch 7/10\n",
      "166/166 [==============================] - 1s 5ms/step - loss: 0.1774 - accuracy: 0.9240 - val_loss: 0.2368 - val_accuracy: 0.9056\n",
      "Epoch 8/10\n",
      "166/166 [==============================] - 1s 5ms/step - loss: 0.1690 - accuracy: 0.9279 - val_loss: 0.2484 - val_accuracy: 0.9042\n",
      "Epoch 9/10\n",
      "166/166 [==============================] - 1s 6ms/step - loss: 0.1602 - accuracy: 0.9309 - val_loss: 0.2536 - val_accuracy: 0.9044\n",
      "Epoch 10/10\n",
      "166/166 [==============================] - 1s 6ms/step - loss: 0.1523 - accuracy: 0.9347 - val_loss: 0.2551 - val_accuracy: 0.9028\n"
     ]
    }
   ],
   "source": [
    "np.random.seed(7)\n",
    "nn_model = Sequential()\n",
    "nn_model.add(Dense(716, input_shape=(716,), activation='relu'))\n",
    "nn_model.add(Dense(64, activation='relu'))\n",
    "nn_model.add(Dense(200, activation='relu'))\n",
    "nn_model.add(Dense(1, activation='sigmoid'))\n",
    "\n",
    "nn_model.compile(loss='binary_crossentropy', optimizer='adam', metrics=['accuracy'])\n",
    "history = nn_model.fit(Xs_train, y_train, validation_data=(Xs_test, y_test), epochs=10, batch_size=512, verbose=1)"
   ]
  },
  {
   "cell_type": "code",
   "execution_count": 87,
   "id": "d856b286",
   "metadata": {},
   "outputs": [],
   "source": [
    "from sklearn.metrics import accuracy_score\n",
    "from sklearn.metrics import f1_score\n",
    "from sklearn.metrics import plot_confusion_matrix"
   ]
  },
  {
   "cell_type": "code",
   "execution_count": 106,
   "id": "b6297951",
   "metadata": {},
   "outputs": [],
   "source": [
    "preds = np.argmax(nn_model.predict(Xs_test), axis=1)"
   ]
  },
  {
   "cell_type": "code",
   "execution_count": 107,
   "id": "d25b3ef8",
   "metadata": {},
   "outputs": [
    {
     "data": {
      "text/plain": [
       "0.5"
      ]
     },
     "execution_count": 107,
     "metadata": {},
     "output_type": "execute_result"
    }
   ],
   "source": [
    "accuracy = accuracy_score(y_test, preds)\n",
    "accuracy"
   ]
  },
  {
   "cell_type": "code",
   "execution_count": 108,
   "id": "05f0dd0a",
   "metadata": {},
   "outputs": [
    {
     "data": {
      "text/plain": [
       "0.0"
      ]
     },
     "execution_count": 108,
     "metadata": {},
     "output_type": "execute_result"
    }
   ],
   "source": [
    "f1 = f1_score(y_test, preds)\n",
    "f1"
   ]
  },
  {
   "cell_type": "code",
   "execution_count": 109,
   "id": "f6346fbf",
   "metadata": {},
   "outputs": [
    {
     "data": {
      "text/plain": [
       "array([[18124,     0],\n",
       "       [18124,     0]], dtype=int64)"
      ]
     },
     "execution_count": 109,
     "metadata": {},
     "output_type": "execute_result"
    }
   ],
   "source": [
    "matrix = confusion_matrix(y_test, preds)\n",
    "matrix"
   ]
  },
  {
   "cell_type": "code",
   "execution_count": 110,
   "id": "4f5b0580",
   "metadata": {},
   "outputs": [
    {
     "data": {
      "text/plain": [
       "(18124, 0, 18124, 0)"
      ]
     },
     "execution_count": 110,
     "metadata": {},
     "output_type": "execute_result"
    }
   ],
   "source": [
    "tn, fp, fn, tp = confusion_matrix(y_test, preds).ravel()\n",
    "(tn, fp, fn, tp)"
   ]
  }
 ],
 "metadata": {
  "kernelspec": {
   "display_name": "Python 3 (ipykernel)",
   "language": "python",
   "name": "python3"
  },
  "language_info": {
   "codemirror_mode": {
    "name": "ipython",
    "version": 3
   },
   "file_extension": ".py",
   "mimetype": "text/x-python",
   "name": "python",
   "nbconvert_exporter": "python",
   "pygments_lexer": "ipython3",
   "version": "3.9.6"
  }
 },
 "nbformat": 4,
 "nbformat_minor": 5
}
