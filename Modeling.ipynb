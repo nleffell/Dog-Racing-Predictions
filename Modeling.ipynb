{
 "cells": [
  {
   "cell_type": "markdown",
   "id": "83738ecb",
   "metadata": {},
   "source": [
    "## Modeling"
   ]
  },
  {
   "cell_type": "code",
   "execution_count": 26,
   "id": "f36f0410",
   "metadata": {},
   "outputs": [
    {
     "data": {
      "text/html": [
       "<style>.container { width:90% !important; }</style>"
      ],
      "text/plain": [
       "<IPython.core.display.HTML object>"
      ]
     },
     "metadata": {},
     "output_type": "display_data"
    }
   ],
   "source": [
    "from IPython.core.display import display, HTML\n",
    "display(HTML(\"<style>.container { width:90% !important; }</style>\"))"
   ]
  },
  {
   "cell_type": "code",
   "execution_count": 1,
   "id": "143482fa",
   "metadata": {},
   "outputs": [],
   "source": [
    "import pandas as pd\n",
    "import numpy as np\n",
    "from sklearn.model_selection import train_test_split, RandomizedSearchCV\n",
    "from sklearn.preprocessing import StandardScaler\n",
    "\n",
    "from sklearn import metrics\n",
    "from scipy.stats import uniform, loguniform\n",
    "\n",
    "import warnings\n",
    "warnings.filterwarnings(\"ignore\")"
   ]
  },
  {
   "cell_type": "code",
   "execution_count": 2,
   "id": "05a8b59b",
   "metadata": {},
   "outputs": [],
   "source": [
    "from tensorflow.keras.utils import to_categorical\n",
    "from tensorflow.keras.models import Sequential\n",
    "from tensorflow.keras.layers import Dense\n",
    "from tensorflow.keras.wrappers.scikit_learn import KerasRegressor\n",
    "from tensorflow.keras.layers import Dropout\n",
    "from tensorflow.keras.callbacks import EarlyStopping"
   ]
  },
  {
   "cell_type": "code",
   "execution_count": 3,
   "id": "d77c6e63",
   "metadata": {},
   "outputs": [],
   "source": [
    "df = pd.read_csv('../model_ready_2015.csv')"
   ]
  },
  {
   "cell_type": "code",
   "execution_count": 4,
   "id": "920412aa",
   "metadata": {},
   "outputs": [],
   "source": [
    "X = pd.get_dummies(df.drop(columns='Fin'), drop_first=True)\n",
    "y = to_categorical(df['Fin'])\n",
    "X_train, X_test, y_train, y_test = train_test_split(X, y, test_size=0.3, stratify=y, random_state=7)"
   ]
  },
  {
   "cell_type": "code",
   "execution_count": 5,
   "id": "0082afc7",
   "metadata": {},
   "outputs": [
    {
     "data": {
      "text/plain": [
       "(478034, 716)"
      ]
     },
     "execution_count": 5,
     "metadata": {},
     "output_type": "execute_result"
    }
   ],
   "source": [
    "X.shape"
   ]
  },
  {
   "cell_type": "code",
   "execution_count": 6,
   "id": "24d36b6e",
   "metadata": {},
   "outputs": [],
   "source": [
    "ss = StandardScaler()\n",
    "Xs_train = ss.fit_transform(X_train)\n",
    "Xs_test = ss.transform(X_test)"
   ]
  },
  {
   "cell_type": "code",
   "execution_count": 8,
   "id": "02bf6281",
   "metadata": {},
   "outputs": [
    {
     "name": "stdout",
     "output_type": "stream",
     "text": [
      "Epoch 1/10\n",
      "654/654 [==============================] - 15s 21ms/step - loss: 0.5888 - accuracy: 0.7633 - val_loss: 0.5207 - val_accuracy: 0.7887\n",
      "Epoch 2/10\n",
      "654/654 [==============================] - 11s 16ms/step - loss: 0.4966 - accuracy: 0.7983 - val_loss: 0.4957 - val_accuracy: 0.7986\n",
      "Epoch 3/10\n",
      "654/654 [==============================] - 11s 16ms/step - loss: 0.4742 - accuracy: 0.8076 - val_loss: 0.4820 - val_accuracy: 0.8036\n",
      "Epoch 4/10\n",
      "654/654 [==============================] - 10s 15ms/step - loss: 0.4608 - accuracy: 0.8131 - val_loss: 0.4771 - val_accuracy: 0.8052\n",
      "Epoch 5/10\n",
      "654/654 [==============================] - 10s 16ms/step - loss: 0.4494 - accuracy: 0.8159 - val_loss: 0.4735 - val_accuracy: 0.8070\n",
      "Epoch 6/10\n",
      "654/654 [==============================] - 10s 16ms/step - loss: 0.4388 - accuracy: 0.8207 - val_loss: 0.4683 - val_accuracy: 0.8098\n",
      "Epoch 7/10\n",
      "654/654 [==============================] - 10s 15ms/step - loss: 0.4282 - accuracy: 0.8244 - val_loss: 0.4629 - val_accuracy: 0.8111\n",
      "Epoch 8/10\n",
      "654/654 [==============================] - 10s 15ms/step - loss: 0.4176 - accuracy: 0.8284 - val_loss: 0.4654 - val_accuracy: 0.8084\n",
      "Epoch 9/10\n",
      "654/654 [==============================] - 10s 16ms/step - loss: 0.4067 - accuracy: 0.8320 - val_loss: 0.4605 - val_accuracy: 0.8110\n",
      "Epoch 10/10\n",
      "654/654 [==============================] - 10s 15ms/step - loss: 0.3960 - accuracy: 0.8361 - val_loss: 0.4672 - val_accuracy: 0.8111\n"
     ]
    }
   ],
   "source": [
    "np.random.seed(7)\n",
    "best_params_model = Sequential()\n",
    "best_params_model.add(Dense(716, input_shape=(716,), activation='relu'))\n",
    "best_params_model.add(Dense(64, activation='relu'))\n",
    "best_params_model.add(Dense(200, activation='relu'))\n",
    "best_params_model.add(Dense(4, activation='softmax'))\n",
    "\n",
    "best_params_model.compile(loss='categorical_crossentropy', optimizer='adam', metrics=['accuracy'])\n",
    "history = best_params_model.fit(Xs_train, y_train, validation_data=(Xs_test, y_test), epochs=10, batch_size=512, verbose=1)\n",
    "\n",
    "preds = best_params_model.predict(Xs_test)"
   ]
  },
  {
   "cell_type": "markdown",
   "id": "c3f245ea",
   "metadata": {},
   "source": [
    "### Binary Classification"
   ]
  },
  {
   "cell_type": "code",
   "execution_count": 17,
   "id": "bdb05afc",
   "metadata": {},
   "outputs": [],
   "source": [
    "X = pd.get_dummies(df.drop(columns='Fin'), drop_first=True)\n",
    "y = df['Fin'].apply(lambda x: 0 if x > 1 else x)\n",
    "X_train, X_test, y_train, y_test = train_test_split(X, y, test_size=0.3, stratify=y, random_state=7)"
   ]
  },
  {
   "cell_type": "code",
   "execution_count": 30,
   "id": "831411d8",
   "metadata": {},
   "outputs": [
    {
     "data": {
      "text/plain": [
       "Fin\n",
       "0      0.873622\n",
       "1      0.126378\n",
       "dtype: float64"
      ]
     },
     "execution_count": 30,
     "metadata": {},
     "output_type": "execute_result"
    }
   ],
   "source": [
    "pd.DataFrame(y).value_counts(normalize=True)"
   ]
  },
  {
   "cell_type": "code",
   "execution_count": 12,
   "id": "0599c581",
   "metadata": {},
   "outputs": [
    {
     "data": {
      "text/plain": [
       "(478034, 716)"
      ]
     },
     "execution_count": 12,
     "metadata": {},
     "output_type": "execute_result"
    }
   ],
   "source": [
    "X.shape"
   ]
  },
  {
   "cell_type": "code",
   "execution_count": 13,
   "id": "5f4116a7",
   "metadata": {},
   "outputs": [],
   "source": [
    "ss = StandardScaler()\n",
    "Xs_train = ss.fit_transform(X_train)\n",
    "Xs_test = ss.transform(X_test)"
   ]
  },
  {
   "cell_type": "code",
   "execution_count": 19,
   "id": "266cd135",
   "metadata": {},
   "outputs": [
    {
     "name": "stdout",
     "output_type": "stream",
     "text": [
      "Epoch 1/10\n",
      "654/654 [==============================] - 14s 21ms/step - loss: 0.3885 - accuracy: 0.8730 - val_loss: 0.3836 - val_accuracy: 0.8736\n",
      "Epoch 2/10\n",
      "654/654 [==============================] - 11s 17ms/step - loss: 0.3807 - accuracy: 0.8736 - val_loss: 0.3812 - val_accuracy: 0.8736\n",
      "Epoch 3/10\n",
      "654/654 [==============================] - 11s 16ms/step - loss: 0.3794 - accuracy: 0.8736 - val_loss: 0.3805 - val_accuracy: 0.8736\n",
      "Epoch 4/10\n",
      "654/654 [==============================] - 10s 16ms/step - loss: 0.3789 - accuracy: 0.8736 - val_loss: 0.3808 - val_accuracy: 0.8736\n",
      "Epoch 5/10\n",
      "654/654 [==============================] - 11s 16ms/step - loss: 0.3786 - accuracy: 0.8736 - val_loss: 0.3808 - val_accuracy: 0.8736\n",
      "Epoch 6/10\n",
      "654/654 [==============================] - 11s 16ms/step - loss: 0.3784 - accuracy: 0.8736 - val_loss: 0.3804 - val_accuracy: 0.8736\n",
      "Epoch 7/10\n",
      "654/654 [==============================] - 12s 18ms/step - loss: 0.3780 - accuracy: 0.8736 - val_loss: 0.3813 - val_accuracy: 0.8736\n",
      "Epoch 8/10\n",
      "654/654 [==============================] - 12s 18ms/step - loss: 0.3776 - accuracy: 0.8736 - val_loss: 0.3818 - val_accuracy: 0.8736\n",
      "Epoch 9/10\n",
      "654/654 [==============================] - 10s 16ms/step - loss: 0.3770 - accuracy: 0.8736 - val_loss: 0.3821 - val_accuracy: 0.8736\n",
      "Epoch 10/10\n",
      "654/654 [==============================] - 10s 16ms/step - loss: 0.3763 - accuracy: 0.8736 - val_loss: 0.3845 - val_accuracy: 0.8736\n"
     ]
    }
   ],
   "source": [
    "np.random.seed(7)\n",
    "best_params_model = Sequential()\n",
    "best_params_model.add(Dense(716, input_shape=(716,), activation='relu'))\n",
    "best_params_model.add(Dense(64, activation='relu'))\n",
    "best_params_model.add(Dense(200, activation='relu'))\n",
    "best_params_model.add(Dense(1, activation='sigmoid'))\n",
    "\n",
    "best_params_model.compile(loss='binary_crossentropy', optimizer='adam', metrics=['accuracy'])\n",
    "history = best_params_model.fit(Xs_train, y_train, validation_data=(Xs_test, y_test), epochs=10, batch_size=512, verbose=1)\n",
    "\n",
    "preds = best_params_model.predict(Xs_test)"
   ]
  },
  {
   "cell_type": "code",
   "execution_count": null,
   "id": "b6297951",
   "metadata": {},
   "outputs": [],
   "source": []
  }
 ],
 "metadata": {
  "kernelspec": {
   "display_name": "Python 3",
   "language": "python",
   "name": "python3"
  },
  "language_info": {
   "codemirror_mode": {
    "name": "ipython",
    "version": 3
   },
   "file_extension": ".py",
   "mimetype": "text/x-python",
   "name": "python",
   "nbconvert_exporter": "python",
   "pygments_lexer": "ipython3",
   "version": "3.8.8"
  }
 },
 "nbformat": 4,
 "nbformat_minor": 5
}
