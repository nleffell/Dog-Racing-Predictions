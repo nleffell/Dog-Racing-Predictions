{
 "cells": [
  {
   "cell_type": "code",
   "execution_count": 1,
   "id": "99d8da1a",
   "metadata": {},
   "outputs": [],
   "source": [
    "import pandas as pd\n",
    "import numpy as np\n",
    "\n",
    "import warnings\n",
    "warnings.filterwarnings(\"ignore\")\n",
    "pd.set_option('display.max_rows', None)\n",
    "pd.set_option('display.max_columns', None)"
   ]
  },
  {
   "cell_type": "code",
   "execution_count": 276,
   "id": "a178f09a",
   "metadata": {},
   "outputs": [
    {
     "data": {
      "text/plain": [
       "(417273, 68)"
      ]
     },
     "execution_count": 276,
     "metadata": {},
     "output_type": "execute_result"
    }
   ],
   "source": [
    "# import data\n",
    "df = pd.read_csv('../Dog Racing Info/Races.csv')\n",
    "df.shape"
   ]
  },
  {
   "cell_type": "code",
   "execution_count": 277,
   "id": "48c1b78d",
   "metadata": {},
   "outputs": [],
   "source": [
    "# Reaname Dat column to Date because it annoys me\n",
    "df = df.rename(columns = {'Dat': 'Date'})\n",
    "# Convert Date to datetime and use Date as my index\n",
    "df['Date'] = pd.to_datetime(df['Date'])\n",
    "# Drop columns that are useless\n",
    "df.drop(columns=['ZnH', 'ZnA', 'ZnB', 'ZnF'], inplace=True)\n",
    "#Drop columns that have too many nulls\n",
    "df.drop(columns=['Ptm'], inplace=True)\n",
    "#Drop columns for other reasons\n",
    "df.drop(columns=['Run'], inplace=True) #99% of the values are 8, so this column is pointless\n",
    "#test\n",
    "df.drop(columns=['Se1', 'Se2', 'Se3', 'Se4'], inplace=True) "
   ]
  },
  {
   "cell_type": "code",
   "execution_count": 280,
   "id": "72682e7f",
   "metadata": {},
   "outputs": [
    {
     "data": {
      "text/html": [
       "<div>\n",
       "<style scoped>\n",
       "    .dataframe tbody tr th:only-of-type {\n",
       "        vertical-align: middle;\n",
       "    }\n",
       "\n",
       "    .dataframe tbody tr th {\n",
       "        vertical-align: top;\n",
       "    }\n",
       "\n",
       "    .dataframe thead th {\n",
       "        text-align: right;\n",
       "    }\n",
       "</style>\n",
       "<table border=\"1\" class=\"dataframe\">\n",
       "  <thead>\n",
       "    <tr style=\"text-align: right;\">\n",
       "      <th></th>\n",
       "      <th>0</th>\n",
       "    </tr>\n",
       "  </thead>\n",
       "  <tbody>\n",
       "  </tbody>\n",
       "</table>\n",
       "</div>"
      ],
      "text/plain": [
       "Empty DataFrame\n",
       "Columns: [0]\n",
       "Index: []"
      ]
     },
     "execution_count": 280,
     "metadata": {},
     "output_type": "execute_result"
    }
   ],
   "source": [
    "#keep this in mind, these are the nulls we dropped, may come back for these later to improve model\n",
    "test = pd.DataFrame(df.isnull().sum())\n",
    "test[test[0] > 0]"
   ]
  },
  {
   "cell_type": "code",
   "execution_count": 279,
   "id": "8cc38c62",
   "metadata": {},
   "outputs": [],
   "source": [
    "df.dropna(inplace=True)"
   ]
  },
  {
   "cell_type": "code",
   "execution_count": 281,
   "id": "afe6d8b3",
   "metadata": {},
   "outputs": [],
   "source": [
    "convert_dst_values_dict = {'5-16':'503', '5/16':'503', '3-16':'301', '3/16':'301', '3-8':'603', '3/8':'603', ' ':'0', 'DC  ':'0',\n",
    "                           '7-16':'703', '313':'316', '334':'330', '545':'550', '548':'550', '677':'678', '679':'678'}\n",
    "df['Dst'] = df['Dst'].map(lambda x: convert_dst_values_dict[x] if x in convert_dst_values_dict.keys() else x)\n",
    "df['Dst'] = df['Dst'].astype(int)\n",
    "df = df[df['Dst'] != 0]"
   ]
  },
  {
   "cell_type": "code",
   "execution_count": 297,
   "id": "3e313fe1",
   "metadata": {},
   "outputs": [],
   "source": [
    "df = df[df['Grd'] != ' ']  #remove row with blank string\n",
    "df = df[df['Nrs'] != 999]  #remove 4 rows with 999 # of races"
   ]
  },
  {
   "cell_type": "code",
   "execution_count": 267,
   "id": "841bca05",
   "metadata": {},
   "outputs": [],
   "source": [
    "df.Pr3 = df.Pr3.round(2)\n",
    "df.Pr4 = df.Pr4.round(2)"
   ]
  },
  {
   "cell_type": "code",
   "execution_count": 285,
   "id": "6be35de7",
   "metadata": {},
   "outputs": [
    {
     "data": {
      "text/plain": [
       "Index(['Tid', 'Date', 'Sig', 'Rac', 'Grd', 'Dst', 'Pr1', 'Pr2', 'Pr3', 'Pr4',\n",
       "       'Pr5', 'Pr6', 'Pr7', 'Pr8', 'Pr9', 'Ad1', 'Ad2', 'Ad3', 'Ad4', 'Ad5',\n",
       "       'Ad6', 'Ad7', 'Ad8', 'Ad9', 'Wtm', 'Trk', 'Mw1', 'Mw2', 'Mw3', 'Mp1',\n",
       "       'Mp2', 'Mp3', 'Ms1', 'Ms2', 'Ms3', 'Mf1', 'Mf2', 'Mf3', 'Mx1', 'Mx2',\n",
       "       'Mx3', 'Mx4', 'Mx5', 'Mx6', 'Mx7', 'Mx8', 'Mx9', 'Nrs', 'Pay', 'Sf1',\n",
       "       'Sf2', 'Sf3', 'Sf4', 'Sfg', 'Fn1', 'Fn2', 'Fn3', 'Fn4'],\n",
       "      dtype='object')"
      ]
     },
     "execution_count": 285,
     "metadata": {},
     "output_type": "execute_result"
    }
   ],
   "source": [
    "df.columns"
   ]
  },
  {
   "cell_type": "code",
   "execution_count": 299,
   "id": "4f3110b8",
   "metadata": {
    "scrolled": true
   },
   "outputs": [
    {
     "data": {
      "text/plain": [
       "0    321543\n",
       "2       490\n",
       "3         3\n",
       "4     76146\n",
       "9        86\n",
       "Name: Pay, dtype: int64"
      ]
     },
     "execution_count": 299,
     "metadata": {},
     "output_type": "execute_result"
    }
   ],
   "source": [
    "df['Pay'].value_counts().sort_index()"
   ]
  },
  {
   "cell_type": "code",
   "execution_count": null,
   "id": "afb12a68",
   "metadata": {},
   "outputs": [],
   "source": []
  }
 ],
 "metadata": {
  "kernelspec": {
   "display_name": "Python 3",
   "language": "python",
   "name": "python3"
  },
  "language_info": {
   "codemirror_mode": {
    "name": "ipython",
    "version": 3
   },
   "file_extension": ".py",
   "mimetype": "text/x-python",
   "name": "python",
   "nbconvert_exporter": "python",
   "pygments_lexer": "ipython3",
   "version": "3.8.8"
  }
 },
 "nbformat": 4,
 "nbformat_minor": 5
}
