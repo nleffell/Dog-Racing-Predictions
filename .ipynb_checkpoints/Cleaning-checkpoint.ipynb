{
 "cells": [
  {
   "cell_type": "code",
   "execution_count": 33,
   "id": "4c499884",
   "metadata": {},
   "outputs": [],
   "source": [
    "import pandas as pd\n",
    "import numpy as np\n",
    "import seaborn as sns\n",
    "import datetime as dt\n",
    "from sklearn.model_selection import train_test_split\n",
    "from sklearn.preprocessing import StandardScaler\n",
    "from sklearn.linear_model import LogisticRegression\n",
    "\n",
    "import warnings\n",
    "warnings.filterwarnings(\"ignore\")\n",
    "pd.set_option('display.max_rows', None)\n",
    "pd.set_option('display.max_columns', None)"
   ]
  },
  {
   "cell_type": "code",
   "execution_count": 34,
   "id": "28d0918c",
   "metadata": {},
   "outputs": [
    {
     "data": {
      "text/plain": [
       "(703829, 91)"
      ]
     },
     "execution_count": 34,
     "metadata": {},
     "output_type": "execute_result"
    }
   ],
   "source": [
    "# import data\n",
    "df = pd.read_csv('../Dog Racing Info/Runners_2015.csv')\n",
    "df.shape"
   ]
  },
  {
   "cell_type": "markdown",
   "id": "1f7c9b28",
   "metadata": {},
   "source": [
    "## 'Fin' is our target column"
   ]
  },
  {
   "cell_type": "code",
   "execution_count": 35,
   "id": "26d58d3a",
   "metadata": {},
   "outputs": [],
   "source": [
    "df = df[df['Fin'] != 0]   #0 is not a valid result so I'm remvoing it\n",
    "#we only care about top 3, so we will change the classification to 1st, 2nd, 3rd, or 4th+\n",
    "df['Fin'] = df['Fin'].apply(lambda x: 4 if x > 3 else x)"
   ]
  },
  {
   "cell_type": "markdown",
   "id": "3022c2e9",
   "metadata": {},
   "source": [
    "### Cleaning up Null values"
   ]
  },
  {
   "cell_type": "code",
   "execution_count": 36,
   "id": "f562145c",
   "metadata": {},
   "outputs": [],
   "source": [
    "#Drop columns that are unecessary or have too many nulls\n",
    "df.drop(columns=['Dog', 'Wwt', 'By1', 'By2', 'Nrm', 'Ntm', 'Dhf', 'Swt', 'Tag', 'Ptk', 'Rem', 'Scr', 'Fby', 'Col',\n",
    "                 'Ctk', 'Com', 'Ar1', 'Ar2', 'Ar3', 'Ar4'], inplace=True)\n",
    "#probably find a way to do something with com column too\n",
    "#probably can find a way to include Ar1-Ar4"
   ]
  },
  {
   "cell_type": "code",
   "execution_count": 37,
   "id": "4acd642a",
   "metadata": {},
   "outputs": [],
   "source": [
    "df['Fav'].fillna(0, inplace=True)\n",
    "df['Fav'] = df['Fav'].apply(lambda x: 1 if x == '*' else x)   #make Fav column binary"
   ]
  },
  {
   "cell_type": "code",
   "execution_count": 38,
   "id": "8028dc19",
   "metadata": {},
   "outputs": [],
   "source": [
    "df.dropna(inplace=True)\n",
    "df.drop_duplicates(inplace=True)"
   ]
  },
  {
   "cell_type": "code",
   "execution_count": 39,
   "id": "3a26843b",
   "metadata": {},
   "outputs": [
    {
     "data": {
      "text/plain": [
       "(489354, 71)"
      ]
     },
     "execution_count": 39,
     "metadata": {},
     "output_type": "execute_result"
    }
   ],
   "source": [
    "df.shape"
   ]
  },
  {
   "cell_type": "markdown",
   "id": "5826a210",
   "metadata": {},
   "source": [
    "### Cleaning up values and datatypes"
   ]
  },
  {
   "cell_type": "code",
   "execution_count": 40,
   "id": "93285d50",
   "metadata": {},
   "outputs": [],
   "source": [
    "df['Trk'] = df['Trk'].replace('`F', 'F')\n",
    "df = df[(df['Trk']=='F') | (df['Trk']=='M') | (df['Trk']=='S')]   #only keep F, M and S values for Track conditions"
   ]
  },
  {
   "cell_type": "code",
   "execution_count": 41,
   "id": "e984d75b",
   "metadata": {},
   "outputs": [],
   "source": [
    "fix_grd_values_dict = {'C!':'C', 'E!':'E', 'SC!':'SC', 'scl':'Scl'}\n",
    "df['Grd'] = df['Grd'].apply(lambda x: fix_grd_values_dict[x] if x in fix_grd_values_dict.keys() else x)   #clean up "
   ]
  },
  {
   "cell_type": "code",
   "execution_count": 42,
   "id": "a91757b1",
   "metadata": {},
   "outputs": [],
   "source": [
    "df['Odd'] = df['Odd'].str.replace('\\*.', '', regex=True)\n",
    "df = df[(df['Odd'] != '-----') & (df['Odd'] != '-1.00')]\n",
    "df['Odd'] = df['Odd'].str.replace('\\.$', '', regex=True)\n",
    "df['Odd'] = df['Odd'].str.replace('\\.\\.', '.', regex=True)\n",
    "#remove remaining 6 messed up strings\n",
    "removed_odds = [x for x in pd.DataFrame(df['Odd'].value_counts()).index if x.count('.') > 1]  #if it has more than 1 decimal its incorrect\n",
    "df = df[~df['Odd'].isin(removed_odds)]\n",
    "df['Odd'] = df['Odd'].astype(float)\n",
    "df['Odd'] = df['Odd'].round(2)"
   ]
  },
  {
   "cell_type": "code",
   "execution_count": 43,
   "id": "9a9d3fce",
   "metadata": {},
   "outputs": [],
   "source": [
    "df['Mln'] = df['Mln'].apply(lambda x: x + '-1' if x.count('-') < 1 else x)\n",
    "half_values_dict = {'5/2-1':'2.5-1', '7/2-1':'3.5-1', '9/2-1':'4.5-1'}\n",
    "df['Mln'] = df['Mln'].apply(lambda x: half_values_dict[x] if x.count('/') == 1 else x)\n",
    "df['Mln'] = df['Mln'].apply(lambda x: float(x.split('-')[0]) / float(x.split('-')[1]) + 1)"
   ]
  },
  {
   "cell_type": "code",
   "execution_count": 44,
   "id": "7edd9e70",
   "metadata": {},
   "outputs": [],
   "source": [
    "convert_dst_values_dict = {'5-16':'503', '3-16':'301', '3-8':'603', 'DC':'0', '7-16':'703', 'YARD':'0'}\n",
    "df['Dst'] = df['Dst'].apply(lambda x: convert_dst_values_dict[x] if x in convert_dst_values_dict.keys() else x)\n",
    "df['Dst'] = df['Dst'].astype(int)\n",
    "df = df[df['Dst'] != 0]"
   ]
  },
  {
   "cell_type": "code",
   "execution_count": 45,
   "id": "5ed6f023",
   "metadata": {},
   "outputs": [],
   "source": [
    "df['Dat'] = pd.to_datetime(df['Dat'])"
   ]
  },
  {
   "cell_type": "code",
   "execution_count": 46,
   "id": "2f896082",
   "metadata": {},
   "outputs": [],
   "source": [
    "df['Twt'] = df['Twt'].str.replace('\\.$', '', regex=True)\n",
    "df['Twt'] = df['Twt'].str.replace('^0', '', regex=True)\n",
    "df = df[~df['Twt'].isin(['', '557', '5½', '7'])]\n",
    "convert_twt_values_dict = {'056':'56', '059':'59', '071':'71', '600':'60', '77.7':'77'}\n",
    "df['Twt'] = df['Twt'].apply(lambda x: convert_twt_values_dict[x] if x in convert_twt_values_dict.keys() else x)\n",
    "df['Twt'] = df['Twt'].apply(lambda x: float(x[:-1]) if '½' in x else float(x))"
   ]
  },
  {
   "cell_type": "code",
   "execution_count": 47,
   "id": "b3c902ac",
   "metadata": {},
   "outputs": [],
   "source": [
    "df['Gen'] = np.where(df['Gen'] == 'M', 1 ,0)"
   ]
  },
  {
   "cell_type": "code",
   "execution_count": 48,
   "id": "559a1a4c",
   "metadata": {},
   "outputs": [],
   "source": [
    "df['Wlp'] = pd.to_datetime(df['Wlp']) #subtract from date of race to create age at time of race"
   ]
  },
  {
   "cell_type": "code",
   "execution_count": 49,
   "id": "251d2445",
   "metadata": {},
   "outputs": [],
   "source": [
    "df = df[df['Hgd'] != '.']"
   ]
  },
  {
   "cell_type": "code",
   "execution_count": 50,
   "id": "30893b1d",
   "metadata": {},
   "outputs": [],
   "source": [
    "df['Age'] = df['Dat'] - df['Wlp']\n",
    "df.drop(columns=['Dat', 'Wlp'], inplace=True)\n",
    "df['Age'] = df['Age'].dt.days"
   ]
  },
  {
   "cell_type": "markdown",
   "id": "00f0816d",
   "metadata": {},
   "source": [
    "### EDA"
   ]
  },
  {
   "cell_type": "code",
   "execution_count": 51,
   "id": "1166cac9",
   "metadata": {},
   "outputs": [],
   "source": [
    "#function to remove values from columns that have less than X instances\n",
    "def remove_low_occurences(df, cols, limit):\n",
    "    for col in cols:\n",
    "        values_to_remove = pd.DataFrame(df[col].value_counts())[pd.DataFrame(df[col].value_counts())[col] < limit].index\n",
    "        new_df = df[~df[col].isin(values_to_remove)]\n",
    "    return new_df\n",
    "df = remove_low_occurences(df, ['Grd'], 5000)"
   ]
  },
  {
   "cell_type": "code",
   "execution_count": null,
   "id": "aa4eaae5",
   "metadata": {},
   "outputs": [],
   "source": []
  },
  {
   "cell_type": "code",
   "execution_count": null,
   "id": "bcf50106",
   "metadata": {},
   "outputs": [],
   "source": []
  },
  {
   "cell_type": "code",
   "execution_count": null,
   "id": "5b4b3b8e",
   "metadata": {},
   "outputs": [],
   "source": []
  },
  {
   "cell_type": "code",
   "execution_count": 53,
   "id": "0bf667ba",
   "metadata": {},
   "outputs": [],
   "source": [
    "#remove Own, Sir, Dam, Ken, Trn\n",
    "# df.drop(columns=['Own', 'Sir', 'Dam', 'Ken', 'Trn'], inplace=True)"
   ]
  },
  {
   "cell_type": "markdown",
   "id": "1b61deec",
   "metadata": {},
   "source": [
    "### Basic Modeling"
   ]
  },
  {
   "cell_type": "code",
   "execution_count": 100,
   "id": "e4d289ec",
   "metadata": {},
   "outputs": [],
   "source": [
    "X = df.drop(columns=['Fin', 'Own', 'Dam', 'Ken', 'Trn'])\n",
    "X = pd.get_dummies(X, drop_first=True)\n",
    "y = df[['Fin']]"
   ]
  },
  {
   "cell_type": "code",
   "execution_count": 101,
   "id": "d0b798c6",
   "metadata": {},
   "outputs": [],
   "source": [
    "#Own has too many observations\n",
    "#Sir was positive up to 50% from 45%\n",
    "#Dam has too many observations\n",
    "#Ken was way negative down to 18% from 45%\n",
    "#Trn was way negative down to 19% from 45%"
   ]
  },
  {
   "cell_type": "code",
   "execution_count": 102,
   "id": "a7f97827",
   "metadata": {},
   "outputs": [
    {
     "data": {
      "text/plain": [
       "(478034, 716)"
      ]
     },
     "execution_count": 102,
     "metadata": {},
     "output_type": "execute_result"
    }
   ],
   "source": [
    "X.shape"
   ]
  },
  {
   "cell_type": "code",
   "execution_count": 108,
   "id": "93b44852",
   "metadata": {},
   "outputs": [],
   "source": [
    "X_train, X_test, y_train, y_test = train_test_split(X, y, test_size=.3, random_state=7, stratify=y)\n",
    "ss = StandardScaler()\n",
    "Xs_train = ss.fit_transform(X_train)\n",
    "Xs_test = ss.transform(X_test)"
   ]
  },
  {
   "cell_type": "code",
   "execution_count": 109,
   "id": "01e4cff9",
   "metadata": {
    "scrolled": false
   },
   "outputs": [
    {
     "data": {
      "text/plain": [
       "LogisticRegression()"
      ]
     },
     "execution_count": 109,
     "metadata": {},
     "output_type": "execute_result"
    }
   ],
   "source": [
    "lr = LogisticRegression()\n",
    "lr.fit(Xs_train, y_train)"
   ]
  },
  {
   "cell_type": "code",
   "execution_count": 110,
   "id": "73463a57",
   "metadata": {},
   "outputs": [
    {
     "data": {
      "text/plain": [
       "(0.5044961045714133, 0.5054493727817253)"
      ]
     },
     "execution_count": 110,
     "metadata": {},
     "output_type": "execute_result"
    }
   ],
   "source": [
    "lr.score(X_train, y_train), lr.score(X_test, y_test)"
   ]
  },
  {
   "cell_type": "code",
   "execution_count": 28,
   "id": "69b93c16",
   "metadata": {},
   "outputs": [
    {
     "data": {
      "text/plain": [
       "(0.452612157294251, 0.45277532560445494)"
      ]
     },
     "execution_count": 28,
     "metadata": {},
     "output_type": "execute_result"
    }
   ],
   "source": [
    "# lr.score(X_train, y_train), lr.score(X_test, y_test) #with 'Own', 'Sir', 'Dam', 'Ken', 'Trn' removed\n",
    "# (0.452612157294251, 0.45277532560445494)"
   ]
  },
  {
   "cell_type": "code",
   "execution_count": null,
   "id": "5d445e55",
   "metadata": {},
   "outputs": [],
   "source": []
  }
 ],
 "metadata": {
  "kernelspec": {
   "display_name": "Python 3 (ipykernel)",
   "language": "python",
   "name": "python3"
  },
  "language_info": {
   "codemirror_mode": {
    "name": "ipython",
    "version": 3
   },
   "file_extension": ".py",
   "mimetype": "text/x-python",
   "name": "python",
   "nbconvert_exporter": "python",
   "pygments_lexer": "ipython3",
   "version": "3.9.6"
  }
 },
 "nbformat": 4,
 "nbformat_minor": 5
}
