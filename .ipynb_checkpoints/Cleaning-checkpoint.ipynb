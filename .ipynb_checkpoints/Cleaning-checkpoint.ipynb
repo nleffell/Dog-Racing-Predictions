{
 "cells": [
  {
   "cell_type": "code",
   "execution_count": 1,
   "id": "4c499884",
   "metadata": {},
   "outputs": [],
   "source": [
    "import pandas as pd\n",
    "import numpy as np\n",
    "import seaborn as sns\n",
    "import datetime as dt\n",
    "from sklearn.model_selection import train_test_split\n",
    "from sklearn.preprocessing import StandardScaler\n",
    "from sklearn.linear_model import LogisticRegression\n",
    "\n",
    "import warnings\n",
    "warnings.filterwarnings(\"ignore\")"
   ]
  },
  {
   "cell_type": "code",
   "execution_count": 363,
   "id": "28d0918c",
   "metadata": {},
   "outputs": [
    {
     "data": {
      "text/plain": [
       "(703829, 91)"
      ]
     },
     "execution_count": 363,
     "metadata": {},
     "output_type": "execute_result"
    }
   ],
   "source": [
    "# import data\n",
    "df = pd.read_csv('../Dog Racing Info/Runners_2015.csv')\n",
    "df.shape"
   ]
  },
  {
   "cell_type": "markdown",
   "id": "1f7c9b28",
   "metadata": {},
   "source": [
    "## 'Fin' is our target column"
   ]
  },
  {
   "cell_type": "code",
   "execution_count": 367,
   "id": "26d58d3a",
   "metadata": {},
   "outputs": [],
   "source": [
    "df = df[df['Fin'] != 0]   #0 is not a valid result so I'm remvoing it\n",
    "#we only care about top 3, so we will change the classification to 1st, 2nd, 3rd, or 4th+\n",
    "df['Fin'] = df['Fin'].apply(lambda x: 0 if x > 3 else x)"
   ]
  },
  {
   "cell_type": "markdown",
   "id": "3022c2e9",
   "metadata": {},
   "source": [
    "### Cleaning up Null values"
   ]
  },
  {
   "cell_type": "code",
   "execution_count": 369,
   "id": "f562145c",
   "metadata": {},
   "outputs": [],
   "source": [
    "#Drop columns that are unecessary or have too many nulls\n",
    "df.drop(columns=['Dog', 'Wwt', 'By1', 'By2', 'Nrm', 'Ntm', 'Dhf', 'Swt', 'Tag', 'Ptk', 'Scr', 'Fby', 'Col', 'Rem',\n",
    "                 'Ctk', 'Com', 'Ar1', 'Ar2', 'Ar3', 'Ar4'], inplace=True)\n",
    "#probably find a way to do something with com column too\n",
    "#probably can find a way to include Ar1-Ar4"
   ]
  },
  {
   "cell_type": "code",
   "execution_count": 370,
   "id": "4acd642a",
   "metadata": {},
   "outputs": [],
   "source": [
    "df['Fav'].fillna(0, inplace=True)\n",
    "df['Fav'] = df['Fav'].apply(lambda x: 1 if x == '*' else x)   #make Fav column binary"
   ]
  },
  {
   "cell_type": "code",
   "execution_count": 371,
   "id": "8028dc19",
   "metadata": {},
   "outputs": [],
   "source": [
    "df.dropna(inplace=True)\n",
    "df.drop_duplicates(inplace=True)"
   ]
  },
  {
   "cell_type": "code",
   "execution_count": 372,
   "id": "3a26843b",
   "metadata": {},
   "outputs": [
    {
     "data": {
      "text/plain": [
       "(489354, 71)"
      ]
     },
     "execution_count": 372,
     "metadata": {},
     "output_type": "execute_result"
    }
   ],
   "source": [
    "df.shape"
   ]
  },
  {
   "cell_type": "markdown",
   "id": "5826a210",
   "metadata": {},
   "source": [
    "### Cleaning up values and datatypes"
   ]
  },
  {
   "cell_type": "code",
   "execution_count": 373,
   "id": "93285d50",
   "metadata": {},
   "outputs": [],
   "source": [
    "df['Trk'] = df['Trk'].replace('`F', 'F')\n",
    "df = df[(df['Trk']=='F') | (df['Trk']=='M') | (df['Trk']=='S')]   #only keep F, M and S values for Track conditions"
   ]
  },
  {
   "cell_type": "code",
   "execution_count": 374,
   "id": "e984d75b",
   "metadata": {},
   "outputs": [],
   "source": [
    "fix_grd_values_dict = {'C!':'C', 'E!':'E', 'SC!':'SC', 'scl':'Scl'}\n",
    "df['Grd'] = df['Grd'].apply(lambda x: fix_grd_values_dict[x] if x in fix_grd_values_dict.keys() else x)   #clean up "
   ]
  },
  {
   "cell_type": "code",
   "execution_count": 375,
   "id": "a91757b1",
   "metadata": {},
   "outputs": [],
   "source": [
    "df['Odd'] = df['Odd'].str.replace('\\*.', '', regex=True)\n",
    "df = df[(df['Odd'] != '-----') & (df['Odd'] != '-1.00')]\n",
    "df['Odd'] = df['Odd'].str.replace('\\.$', '', regex=True)\n",
    "df['Odd'] = df['Odd'].str.replace('\\.\\.', '.', regex=True)\n",
    "#remove remaining 6 messed up strings\n",
    "removed_odds = [x for x in pd.DataFrame(df['Odd'].value_counts()).index if x.count('.') > 1]  #if it has more than 1 decimal its incorrect\n",
    "df = df[~df['Odd'].isin(removed_odds)]\n",
    "df['Odd'] = df['Odd'].astype(float)\n",
    "df['Odd'] = df['Odd'].round(2)"
   ]
  },
  {
   "cell_type": "code",
   "execution_count": 376,
   "id": "9a9d3fce",
   "metadata": {},
   "outputs": [],
   "source": [
    "df['Mln'] = df['Mln'].apply(lambda x: x + '-1' if x.count('-') < 1 else x)\n",
    "half_values_dict = {'5/2-1':'2.5-1', '7/2-1':'3.5-1', '9/2-1':'4.5-1'}\n",
    "df['Mln'] = df['Mln'].apply(lambda x: half_values_dict[x] if x.count('/') == 1 else x)\n",
    "df['Mln'] = df['Mln'].apply(lambda x: float(x.split('-')[0]) / float(x.split('-')[1]) + 1)"
   ]
  },
  {
   "cell_type": "code",
   "execution_count": 377,
   "id": "7edd9e70",
   "metadata": {},
   "outputs": [],
   "source": [
    "convert_dst_values_dict = {'5-16':'503', '3-16':'301', '3-8':'603', 'DC':'0', '7-16':'703', 'YARD':'0'}\n",
    "df['Dst'] = df['Dst'].apply(lambda x: convert_dst_values_dict[x] if x in convert_dst_values_dict.keys() else x)\n",
    "df['Dst'] = df['Dst'].astype(int)\n",
    "df = df[df['Dst'] != 0]"
   ]
  },
  {
   "cell_type": "code",
   "execution_count": 378,
   "id": "5ed6f023",
   "metadata": {},
   "outputs": [],
   "source": [
    "df['Dat'] = pd.to_datetime(df['Dat'])"
   ]
  },
  {
   "cell_type": "code",
   "execution_count": 379,
   "id": "2f896082",
   "metadata": {},
   "outputs": [],
   "source": [
    "df['Twt'] = df['Twt'].str.replace('\\.$', '', regex=True)\n",
    "df['Twt'] = df['Twt'].str.replace('^0', '', regex=True)\n",
    "df = df[~df['Twt'].isin(['', '557', '5½', '7'])]\n",
    "convert_twt_values_dict = {'056':'56', '059':'59', '071':'71', '600':'60', '77.7':'77'}\n",
    "df['Twt'] = df['Twt'].apply(lambda x: convert_twt_values_dict[x] if x in convert_twt_values_dict.keys() else x)\n",
    "df['Twt'] = df['Twt'].apply(lambda x: float(x[:-1]) if '½' in x else float(x))"
   ]
  },
  {
   "cell_type": "code",
   "execution_count": 380,
   "id": "b3c902ac",
   "metadata": {},
   "outputs": [],
   "source": [
    "df['Gen'] = np.where(df['Gen'] == 'M', 1 ,0)"
   ]
  },
  {
   "cell_type": "code",
   "execution_count": 381,
   "id": "559a1a4c",
   "metadata": {},
   "outputs": [],
   "source": [
    "df['Wlp'] = pd.to_datetime(df['Wlp']) #subtract from date of race to create age at time of race"
   ]
  },
  {
   "cell_type": "code",
   "execution_count": 382,
   "id": "251d2445",
   "metadata": {},
   "outputs": [],
   "source": [
    "df = df[df['Hgd'] != '.']"
   ]
  },
  {
   "cell_type": "code",
   "execution_count": 383,
   "id": "30893b1d",
   "metadata": {},
   "outputs": [],
   "source": [
    "df['Age'] = df['Dat'] - df['Wlp']\n",
    "df.drop(columns=['Wlp'], inplace=True)\n",
    "df['Age'] = df['Age'].dt.days"
   ]
  },
  {
   "cell_type": "markdown",
   "id": "00f0816d",
   "metadata": {},
   "source": [
    "### EDA"
   ]
  },
  {
   "cell_type": "code",
   "execution_count": 384,
   "id": "1166cac9",
   "metadata": {},
   "outputs": [],
   "source": [
    "#function to remove values from columns that have less than X instances\n",
    "def remove_low_occurences(df, cols, limit):\n",
    "    for col in cols:\n",
    "        values_to_remove = pd.DataFrame(df[col].value_counts())[pd.DataFrame(df[col].value_counts())[col] < limit].index\n",
    "        new_df = df[~df[col].isin(values_to_remove)]\n",
    "    return new_df\n",
    "df = remove_low_occurences(df, ['Grd'], 5000)"
   ]
  },
  {
   "cell_type": "code",
   "execution_count": null,
   "id": "aa4eaae5",
   "metadata": {},
   "outputs": [],
   "source": []
  },
  {
   "cell_type": "code",
   "execution_count": null,
   "id": "bcf50106",
   "metadata": {},
   "outputs": [],
   "source": []
  },
  {
   "cell_type": "code",
   "execution_count": null,
   "id": "5b4b3b8e",
   "metadata": {},
   "outputs": [],
   "source": []
  },
  {
   "cell_type": "code",
   "execution_count": 385,
   "id": "0bf667ba",
   "metadata": {},
   "outputs": [],
   "source": [
    "#remove Own, Dam, Ken, Trn\n",
    "df.drop(columns=['Own', 'Dam', 'Ken', 'Trn'], inplace=True)"
   ]
  },
  {
   "cell_type": "code",
   "execution_count": 386,
   "id": "db2be17a",
   "metadata": {},
   "outputs": [],
   "source": [
    "#Own has too many observations\n",
    "#Sir was positive up to 50% from 45%, will keep that one\n",
    "#Dam has too many observations\n",
    "#Ken was way negative down to 18% from 45%\n",
    "#Trn was way negative down to 19% from 45%"
   ]
  },
  {
   "cell_type": "markdown",
   "id": "5408af2e",
   "metadata": {},
   "source": [
    "### Group DataFrame by RaceId"
   ]
  },
  {
   "cell_type": "code",
   "execution_count": 387,
   "id": "01130a86",
   "metadata": {},
   "outputs": [],
   "source": [
    "# create unique identifier for each race. I'm going to use dat plus rac columns\n",
    "def date_race(col1, col2, date_col, col3):\n",
    "    return str(col1) + str(col2) + date_col.strftime('%Y%m%d') + str(col3)\n",
    "df['Rid'] = df.apply(lambda x: date_race(x.Sig, x.Tid, x.Dat, x.Rac), axis=1)"
   ]
  },
  {
   "cell_type": "code",
   "execution_count": 388,
   "id": "341af8c6",
   "metadata": {},
   "outputs": [
    {
     "data": {
      "text/html": [
       "<div>\n",
       "<style scoped>\n",
       "    .dataframe tbody tr th:only-of-type {\n",
       "        vertical-align: middle;\n",
       "    }\n",
       "\n",
       "    .dataframe tbody tr th {\n",
       "        vertical-align: top;\n",
       "    }\n",
       "\n",
       "    .dataframe thead th {\n",
       "        text-align: right;\n",
       "    }\n",
       "</style>\n",
       "<table border=\"1\" class=\"dataframe\">\n",
       "  <thead>\n",
       "    <tr style=\"text-align: right;\">\n",
       "      <th></th>\n",
       "      <th>Rid</th>\n",
       "    </tr>\n",
       "  </thead>\n",
       "  <tbody>\n",
       "    <tr>\n",
       "      <th>TTS2015040410</th>\n",
       "      <td>8</td>\n",
       "    </tr>\n",
       "    <tr>\n",
       "      <th>EMG201504051</th>\n",
       "      <td>8</td>\n",
       "    </tr>\n",
       "    <tr>\n",
       "      <th>ETU201505048</th>\n",
       "      <td>8</td>\n",
       "    </tr>\n",
       "    <tr>\n",
       "      <th>TTS201504047</th>\n",
       "      <td>8</td>\n",
       "    </tr>\n",
       "    <tr>\n",
       "      <th>EMG201504052</th>\n",
       "      <td>8</td>\n",
       "    </tr>\n",
       "    <tr>\n",
       "      <th>...</th>\n",
       "      <td>...</td>\n",
       "    </tr>\n",
       "    <tr>\n",
       "      <th>EWD2015081511</th>\n",
       "      <td>8</td>\n",
       "    </tr>\n",
       "    <tr>\n",
       "      <th>ESP201510088</th>\n",
       "      <td>8</td>\n",
       "    </tr>\n",
       "    <tr>\n",
       "      <th>ESP2015061114</th>\n",
       "      <td>8</td>\n",
       "    </tr>\n",
       "    <tr>\n",
       "      <th>APB201505285</th>\n",
       "      <td>8</td>\n",
       "    </tr>\n",
       "    <tr>\n",
       "      <th>EPB201506265</th>\n",
       "      <td>8</td>\n",
       "    </tr>\n",
       "  </tbody>\n",
       "</table>\n",
       "<p>45914 rows × 1 columns</p>\n",
       "</div>"
      ],
      "text/plain": [
       "               Rid\n",
       "TTS2015040410    8\n",
       "EMG201504051     8\n",
       "ETU201505048     8\n",
       "TTS201504047     8\n",
       "EMG201504052     8\n",
       "...            ...\n",
       "EWD2015081511    8\n",
       "ESP201510088     8\n",
       "ESP2015061114    8\n",
       "APB201505285     8\n",
       "EPB201506265     8\n",
       "\n",
       "[45914 rows x 1 columns]"
      ]
     },
     "execution_count": 388,
     "metadata": {},
     "output_type": "execute_result"
    }
   ],
   "source": [
    "test = pd.DataFrame(df['Rid'].value_counts())\n",
    "test[test['Rid'] == 8]"
   ]
  },
  {
   "cell_type": "code",
   "execution_count": 389,
   "id": "23d00788",
   "metadata": {},
   "outputs": [],
   "source": [
    "#only take races with 8 dogs. Ther are some weird duplicates that results in 9 or 10 but I'm going to ignore them for now\n",
    "df = df[df['Rid']==8]"
   ]
  },
  {
   "cell_type": "code",
   "execution_count": 390,
   "id": "bac4b862",
   "metadata": {},
   "outputs": [],
   "source": [
    "def group_by_rid():\n",
    "    non_groupby_cols = [col for col in df.columns if col != 'Rid']\n",
    "    row_info = []\n",
    "    for col in non_groupby_cols:\n",
    "        row_info.append(','.join(x[col].astype(str).values))\n",
    "    return ','.join(row_info)"
   ]
  },
  {
   "cell_type": "code",
   "execution_count": null,
   "id": "b85a1a19",
   "metadata": {},
   "outputs": [],
   "source": []
  },
  {
   "cell_type": "code",
   "execution_count": 397,
   "id": "d0e9a674",
   "metadata": {
    "scrolled": true
   },
   "outputs": [
    {
     "data": {
      "text/html": [
       "<div>\n",
       "<style scoped>\n",
       "    .dataframe tbody tr th:only-of-type {\n",
       "        vertical-align: middle;\n",
       "    }\n",
       "\n",
       "    .dataframe tbody tr th {\n",
       "        vertical-align: top;\n",
       "    }\n",
       "\n",
       "    .dataframe thead th {\n",
       "        text-align: right;\n",
       "    }\n",
       "</style>\n",
       "<table border=\"1\" class=\"dataframe\">\n",
       "  <thead>\n",
       "    <tr style=\"text-align: right;\">\n",
       "      <th></th>\n",
       "      <th>Tid</th>\n",
       "      <th>Dat</th>\n",
       "      <th>Sig</th>\n",
       "      <th>Rac</th>\n",
       "      <th>Wtm</th>\n",
       "      <th>Trk</th>\n",
       "      <th>Twt</th>\n",
       "      <th>Hcp</th>\n",
       "      <th>Pst</th>\n",
       "      <th>Brk</th>\n",
       "      <th>Ca1</th>\n",
       "      <th>Ca2</th>\n",
       "      <th>Fin</th>\n",
       "      <th>Atm</th>\n",
       "      <th>Fav</th>\n",
       "      <th>Odd</th>\n",
       "      <th>Stm</th>\n",
       "      <th>Prs</th>\n",
       "      <th>Pad</th>\n",
       "      <th>CmP</th>\n",
       "      <th>CmA</th>\n",
       "      <th>Gdx</th>\n",
       "      <th>Ddx</th>\n",
       "      <th>Grd</th>\n",
       "      <th>Dst</th>\n",
       "      <th>Arn</th>\n",
       "      <th>Mln</th>\n",
       "      <th>Cpr</th>\n",
       "      <th>Kdx</th>\n",
       "      <th>Pay</th>\n",
       "      <th>Gen</th>\n",
       "      <th>Sir</th>\n",
       "      <th>Crs</th>\n",
       "      <th>Cr1</th>\n",
       "      <th>Cr2</th>\n",
       "      <th>Cr3</th>\n",
       "      <th>Cr4</th>\n",
       "      <th>Pvs</th>\n",
       "      <th>Pv1</th>\n",
       "      <th>Pv2</th>\n",
       "      <th>Pv3</th>\n",
       "      <th>Pv4</th>\n",
       "      <th>Btm</th>\n",
       "      <th>Hgd</th>\n",
       "      <th>Lgd</th>\n",
       "      <th>Ern</th>\n",
       "      <th>Psc</th>\n",
       "      <th>Esc</th>\n",
       "      <th>Gsc</th>\n",
       "      <th>Ssc</th>\n",
       "      <th>Fsc</th>\n",
       "      <th>Idx</th>\n",
       "      <th>Edx</th>\n",
       "      <th>Ist</th>\n",
       "      <th>Est</th>\n",
       "      <th>Sfg</th>\n",
       "      <th>Bhz</th>\n",
       "      <th>Bvt</th>\n",
       "      <th>Thz</th>\n",
       "      <th>Tvt</th>\n",
       "      <th>Rdx</th>\n",
       "      <th>Pts</th>\n",
       "      <th>Bpt</th>\n",
       "      <th>Bpr</th>\n",
       "      <th>Ccd</th>\n",
       "      <th>Flg</th>\n",
       "      <th>Age</th>\n",
       "      <th>Rid</th>\n",
       "    </tr>\n",
       "    <tr>\n",
       "      <th>Rid</th>\n",
       "      <th></th>\n",
       "      <th></th>\n",
       "      <th></th>\n",
       "      <th></th>\n",
       "      <th></th>\n",
       "      <th></th>\n",
       "      <th></th>\n",
       "      <th></th>\n",
       "      <th></th>\n",
       "      <th></th>\n",
       "      <th></th>\n",
       "      <th></th>\n",
       "      <th></th>\n",
       "      <th></th>\n",
       "      <th></th>\n",
       "      <th></th>\n",
       "      <th></th>\n",
       "      <th></th>\n",
       "      <th></th>\n",
       "      <th></th>\n",
       "      <th></th>\n",
       "      <th></th>\n",
       "      <th></th>\n",
       "      <th></th>\n",
       "      <th></th>\n",
       "      <th></th>\n",
       "      <th></th>\n",
       "      <th></th>\n",
       "      <th></th>\n",
       "      <th></th>\n",
       "      <th></th>\n",
       "      <th></th>\n",
       "      <th></th>\n",
       "      <th></th>\n",
       "      <th></th>\n",
       "      <th></th>\n",
       "      <th></th>\n",
       "      <th></th>\n",
       "      <th></th>\n",
       "      <th></th>\n",
       "      <th></th>\n",
       "      <th></th>\n",
       "      <th></th>\n",
       "      <th></th>\n",
       "      <th></th>\n",
       "      <th></th>\n",
       "      <th></th>\n",
       "      <th></th>\n",
       "      <th></th>\n",
       "      <th></th>\n",
       "      <th></th>\n",
       "      <th></th>\n",
       "      <th></th>\n",
       "      <th></th>\n",
       "      <th></th>\n",
       "      <th></th>\n",
       "      <th></th>\n",
       "      <th></th>\n",
       "      <th></th>\n",
       "      <th></th>\n",
       "      <th></th>\n",
       "      <th></th>\n",
       "      <th></th>\n",
       "      <th></th>\n",
       "      <th></th>\n",
       "      <th></th>\n",
       "      <th></th>\n",
       "      <th></th>\n",
       "    </tr>\n",
       "  </thead>\n",
       "  <tbody>\n",
       "  </tbody>\n",
       "</table>\n",
       "</div>"
      ],
      "text/plain": [
       "Empty DataFrame\n",
       "Columns: [Tid, Dat, Sig, Rac, Wtm, Trk, Twt, Hcp, Pst, Brk, Ca1, Ca2, Fin, Atm, Fav, Odd, Stm, Prs, Pad, CmP, CmA, Gdx, Ddx, Grd, Dst, Arn, Mln, Cpr, Kdx, Pay, Gen, Sir, Crs, Cr1, Cr2, Cr3, Cr4, Pvs, Pv1, Pv2, Pv3, Pv4, Btm, Hgd, Lgd, Ern, Psc, Esc, Gsc, Ssc, Fsc, Idx, Edx, Ist, Est, Sfg, Bhz, Bvt, Thz, Tvt, Rdx, Pts, Bpt, Bpr, Ccd, Flg, Age, Rid]\n",
       "Index: []"
      ]
     },
     "execution_count": 397,
     "metadata": {},
     "output_type": "execute_result"
    }
   ],
   "source": [
    "df.groupby('Rid').apply(group_by_rid)#.to_frame('new_col')"
   ]
  },
  {
   "cell_type": "code",
   "execution_count": 24,
   "id": "45607375",
   "metadata": {},
   "outputs": [
    {
     "data": {
      "text/html": [
       "<div>\n",
       "<style scoped>\n",
       "    .dataframe tbody tr th:only-of-type {\n",
       "        vertical-align: middle;\n",
       "    }\n",
       "\n",
       "    .dataframe tbody tr th {\n",
       "        vertical-align: top;\n",
       "    }\n",
       "\n",
       "    .dataframe thead th {\n",
       "        text-align: right;\n",
       "    }\n",
       "</style>\n",
       "<table border=\"1\" class=\"dataframe\">\n",
       "  <thead>\n",
       "    <tr style=\"text-align: right;\">\n",
       "      <th></th>\n",
       "      <th>Tid</th>\n",
       "      <th>Sig</th>\n",
       "      <th>Rac</th>\n",
       "      <th>Wtm</th>\n",
       "      <th>Trk</th>\n",
       "      <th>Twt</th>\n",
       "      <th>Hcp</th>\n",
       "      <th>Pst</th>\n",
       "      <th>Brk</th>\n",
       "      <th>Ca1</th>\n",
       "      <th>...</th>\n",
       "      <th>Bvt</th>\n",
       "      <th>Thz</th>\n",
       "      <th>Tvt</th>\n",
       "      <th>Rdx</th>\n",
       "      <th>Pts</th>\n",
       "      <th>Bpt</th>\n",
       "      <th>Bpr</th>\n",
       "      <th>Ccd</th>\n",
       "      <th>Flg</th>\n",
       "      <th>Age</th>\n",
       "    </tr>\n",
       "  </thead>\n",
       "  <tbody>\n",
       "    <tr>\n",
       "      <th>3</th>\n",
       "      <td>NF</td>\n",
       "      <td>A</td>\n",
       "      <td>2</td>\n",
       "      <td>31.09</td>\n",
       "      <td>F</td>\n",
       "      <td>68.0</td>\n",
       "      <td>1046</td>\n",
       "      <td>5</td>\n",
       "      <td>3</td>\n",
       "      <td>5</td>\n",
       "      <td>...</td>\n",
       "      <td>5</td>\n",
       "      <td>445</td>\n",
       "      <td>5</td>\n",
       "      <td>7</td>\n",
       "      <td>1.0</td>\n",
       "      <td>0.0</td>\n",
       "      <td>0.0</td>\n",
       "      <td>0.0</td>\n",
       "      <td>0</td>\n",
       "      <td>663</td>\n",
       "    </tr>\n",
       "    <tr>\n",
       "      <th>5</th>\n",
       "      <td>PB</td>\n",
       "      <td>A</td>\n",
       "      <td>13</td>\n",
       "      <td>29.75</td>\n",
       "      <td>F</td>\n",
       "      <td>73.0</td>\n",
       "      <td>0</td>\n",
       "      <td>8</td>\n",
       "      <td>5</td>\n",
       "      <td>8</td>\n",
       "      <td>...</td>\n",
       "      <td>8</td>\n",
       "      <td>532</td>\n",
       "      <td>6</td>\n",
       "      <td>0</td>\n",
       "      <td>0.0</td>\n",
       "      <td>0.0</td>\n",
       "      <td>0.0</td>\n",
       "      <td>0.0</td>\n",
       "      <td>0</td>\n",
       "      <td>1289</td>\n",
       "    </tr>\n",
       "    <tr>\n",
       "      <th>6</th>\n",
       "      <td>SN</td>\n",
       "      <td>A</td>\n",
       "      <td>13</td>\n",
       "      <td>38.60</td>\n",
       "      <td>F</td>\n",
       "      <td>58.0</td>\n",
       "      <td>0</td>\n",
       "      <td>5</td>\n",
       "      <td>1</td>\n",
       "      <td>1</td>\n",
       "      <td>...</td>\n",
       "      <td>5</td>\n",
       "      <td>514</td>\n",
       "      <td>5</td>\n",
       "      <td>0</td>\n",
       "      <td>0.0</td>\n",
       "      <td>0.0</td>\n",
       "      <td>0.0</td>\n",
       "      <td>0.0</td>\n",
       "      <td>0</td>\n",
       "      <td>904</td>\n",
       "    </tr>\n",
       "    <tr>\n",
       "      <th>7</th>\n",
       "      <td>TU</td>\n",
       "      <td>E</td>\n",
       "      <td>10</td>\n",
       "      <td>31.28</td>\n",
       "      <td>F</td>\n",
       "      <td>64.0</td>\n",
       "      <td>0</td>\n",
       "      <td>4</td>\n",
       "      <td>8</td>\n",
       "      <td>4</td>\n",
       "      <td>...</td>\n",
       "      <td>4</td>\n",
       "      <td>520</td>\n",
       "      <td>4</td>\n",
       "      <td>0</td>\n",
       "      <td>0.0</td>\n",
       "      <td>0.0</td>\n",
       "      <td>0.0</td>\n",
       "      <td>0.0</td>\n",
       "      <td>0</td>\n",
       "      <td>1099</td>\n",
       "    </tr>\n",
       "    <tr>\n",
       "      <th>8</th>\n",
       "      <td>WD</td>\n",
       "      <td>A</td>\n",
       "      <td>10</td>\n",
       "      <td>30.88</td>\n",
       "      <td>F</td>\n",
       "      <td>72.0</td>\n",
       "      <td>0</td>\n",
       "      <td>6</td>\n",
       "      <td>7</td>\n",
       "      <td>4</td>\n",
       "      <td>...</td>\n",
       "      <td>6</td>\n",
       "      <td>332</td>\n",
       "      <td>6</td>\n",
       "      <td>0</td>\n",
       "      <td>0.0</td>\n",
       "      <td>0.0</td>\n",
       "      <td>0.0</td>\n",
       "      <td>0.0</td>\n",
       "      <td>0</td>\n",
       "      <td>1422</td>\n",
       "    </tr>\n",
       "  </tbody>\n",
       "</table>\n",
       "<p>5 rows × 66 columns</p>\n",
       "</div>"
      ],
      "text/plain": [
       "  Tid Sig  Rac    Wtm Trk   Twt   Hcp  Pst  Brk  Ca1  ...  Bvt  Thz  Tvt  Rdx  \\\n",
       "3  NF   A    2  31.09   F  68.0  1046    5    3    5  ...    5  445    5    7   \n",
       "5  PB   A   13  29.75   F  73.0     0    8    5    8  ...    8  532    6    0   \n",
       "6  SN   A   13  38.60   F  58.0     0    5    1    1  ...    5  514    5    0   \n",
       "7  TU   E   10  31.28   F  64.0     0    4    8    4  ...    4  520    4    0   \n",
       "8  WD   A   10  30.88   F  72.0     0    6    7    4  ...    6  332    6    0   \n",
       "\n",
       "   Pts  Bpt  Bpr  Ccd  Flg   Age  \n",
       "3  1.0  0.0  0.0  0.0    0   663  \n",
       "5  0.0  0.0  0.0  0.0    0  1289  \n",
       "6  0.0  0.0  0.0  0.0    0   904  \n",
       "7  0.0  0.0  0.0  0.0    0  1099  \n",
       "8  0.0  0.0  0.0  0.0    0  1422  \n",
       "\n",
       "[5 rows x 66 columns]"
      ]
     },
     "execution_count": 24,
     "metadata": {},
     "output_type": "execute_result"
    }
   ],
   "source": [
    "df.head()"
   ]
  },
  {
   "cell_type": "markdown",
   "id": "2dfd6764",
   "metadata": {},
   "source": [
    "### Save for modeling later"
   ]
  },
  {
   "cell_type": "code",
   "execution_count": 22,
   "id": "61f11a97",
   "metadata": {},
   "outputs": [],
   "source": [
    "df.to_csv('../model_ready_2015.csv', index=False)"
   ]
  },
  {
   "cell_type": "markdown",
   "id": "1b61deec",
   "metadata": {},
   "source": [
    "### Basic Modeling"
   ]
  },
  {
   "cell_type": "code",
   "execution_count": 82,
   "id": "e4d289ec",
   "metadata": {},
   "outputs": [],
   "source": [
    "X = pd.get_dummies(df.drop(columns='Fin'), drop_first=True)\n",
    "y = df[['Fin']]"
   ]
  },
  {
   "cell_type": "code",
   "execution_count": 83,
   "id": "a7f97827",
   "metadata": {},
   "outputs": [
    {
     "data": {
      "text/plain": [
       "(478034, 716)"
      ]
     },
     "execution_count": 83,
     "metadata": {},
     "output_type": "execute_result"
    }
   ],
   "source": [
    "X.shape"
   ]
  },
  {
   "cell_type": "code",
   "execution_count": 24,
   "id": "93b44852",
   "metadata": {},
   "outputs": [],
   "source": [
    "X_train, X_test, y_train, y_test = train_test_split(X, y, test_size=.3, random_state=7, stratify=y)\n",
    "ss = StandardScaler()\n",
    "Xs_train = ss.fit_transform(X_train)\n",
    "Xs_test = ss.transform(X_test)"
   ]
  },
  {
   "cell_type": "code",
   "execution_count": 25,
   "id": "01e4cff9",
   "metadata": {
    "scrolled": false
   },
   "outputs": [
    {
     "data": {
      "text/plain": [
       "LogisticRegression()"
      ]
     },
     "execution_count": 25,
     "metadata": {},
     "output_type": "execute_result"
    }
   ],
   "source": [
    "lr = LogisticRegression()\n",
    "lr.fit(Xs_train, y_train)"
   ]
  },
  {
   "cell_type": "code",
   "execution_count": 26,
   "id": "73463a57",
   "metadata": {},
   "outputs": [
    {
     "data": {
      "text/plain": [
       "(0.5044961045714133, 0.5054493727817253)"
      ]
     },
     "execution_count": 26,
     "metadata": {},
     "output_type": "execute_result"
    }
   ],
   "source": [
    "lr.score(X_train, y_train), lr.score(X_test, y_test)"
   ]
  },
  {
   "cell_type": "code",
   "execution_count": 27,
   "id": "69b93c16",
   "metadata": {},
   "outputs": [],
   "source": [
    "# lr.score(X_train, y_train), lr.score(X_test, y_test) #with 'Own', 'Sir', 'Dam', 'Ken', 'Trn' removed\n",
    "# (0.452612157294251, 0.45277532560445494)"
   ]
  },
  {
   "cell_type": "code",
   "execution_count": null,
   "id": "5d445e55",
   "metadata": {},
   "outputs": [],
   "source": []
  }
 ],
 "metadata": {
  "kernelspec": {
   "display_name": "Python 3 (ipykernel)",
   "language": "python",
   "name": "python3"
  },
  "language_info": {
   "codemirror_mode": {
    "name": "ipython",
    "version": 3
   },
   "file_extension": ".py",
   "mimetype": "text/x-python",
   "name": "python",
   "nbconvert_exporter": "python",
   "pygments_lexer": "ipython3",
   "version": "3.9.6"
  }
 },
 "nbformat": 4,
 "nbformat_minor": 5
}
